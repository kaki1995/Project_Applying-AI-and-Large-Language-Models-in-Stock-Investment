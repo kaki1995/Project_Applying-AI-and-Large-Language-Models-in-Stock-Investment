{
 "cells": [
  {
   "metadata": {},
   "cell_type": "markdown",
   "source": "# Package Installation Section #",
   "id": "2ff4dece41de083c"
  },
  {
   "metadata": {
    "ExecuteTime": {
     "end_time": "2024-12-30T17:14:31.454400Z",
     "start_time": "2024-12-30T17:14:21.211289Z"
    }
   },
   "cell_type": "code",
   "source": [
    "# import yfinance as yf\n",
    "import pandas as pd\n",
    "from openpyxl import load_workbook\n",
    "import re\n",
    "import numpy as np\n",
    "from sklearn.preprocessing import OneHotEncoder\n",
    "from sklearn.preprocessing import StandardScaler\n",
    "from sklearn.model_selection import train_test_split\n",
    "from sklearn.model_selection import StratifiedShuffleSplit\n",
    "from sklearn.ensemble import RandomForestClassifier\n",
    "from sklearn.metrics import accuracy_score\n",
    "from sklearn.model_selection import GridSearchCV\n",
    "from sklearn.model_selection import RandomizedSearchCV\n",
    "from sklearn.pipeline import Pipeline\n",
    "from sklearn.ensemble import RandomForestRegressor, GradientBoostingRegressor\n",
    "from sklearn.linear_model import LinearRegression\n",
    "from sklearn.ensemble import StackingRegressor\n",
    "from sklearn.metrics import mean_squared_error, r2_score\n"
   ],
   "id": "fc45d131f6943280",
   "outputs": [],
   "execution_count": 1
  },
  {
   "metadata": {},
   "cell_type": "code",
   "outputs": [],
   "execution_count": null,
   "source": [
    "# Define the tickers for S&P 500 (^GSPC) and VIX (^VIX)\n",
    "tickers = [\"^GSPC\", \"^VIX\"]\n",
    "\n",
    "# Download weekly data from Yahoo Finance\n",
    "data = yf.download(tickers, start=\"2014-12-26\", end=\"2024-12-31\", interval=\"1wk\", group_by=\"ticker\")\n",
    "\n",
    "# Extract closing prices\n",
    "sp500_close = data[\"^GSPC\"][\"Close\"]\n",
    "vix_close = data[\"^VIX\"][\"Close\"]\n",
    "\n",
    "# Calculate weekly returns for S&P 500 (percentage change)\n",
    "sp500_return = sp500_close.pct_change() * 100\n",
    "\n",
    "# Combine data into a single DataFrame\n",
    "sp500_vix = pd.DataFrame({\n",
    "    \"Date\": sp500_close.index,\n",
    "    \"SP500_Return (%)\": sp500_return,\n",
    "    \"VIX_Close\": vix_close\n",
    "}).set_index(\"Date\")\n",
    "\n",
    "# Drop rows with NaN values (e.g., first row for returns calculation)\n",
    "sp500_vix.dropna(inplace=True)\n",
    "\n",
    "# Save to a CSV file\n",
    "# sp500_vix.to_csv(\"weekly_sp500_vix_wk1.csv\")\n",
    "\n",
    "sp500_vix"
   ],
   "id": "c878f75301520c80"
  },
  {
   "metadata": {},
   "cell_type": "code",
   "outputs": [],
   "execution_count": null,
   "source": "",
   "id": "5c40f4e3a3f57612"
  },
  {
   "metadata": {},
   "cell_type": "markdown",
   "source": "#",
   "id": "24b21a50a20bbe57"
  }
 ],
 "metadata": {
  "kernelspec": {
   "display_name": "Python 3",
   "language": "python",
   "name": "python3"
  },
  "language_info": {
   "codemirror_mode": {
    "name": "ipython",
    "version": 2
   },
   "file_extension": ".py",
   "mimetype": "text/x-python",
   "name": "python",
   "nbconvert_exporter": "python",
   "pygments_lexer": "ipython2",
   "version": "2.7.6"
  }
 },
 "nbformat": 4,
 "nbformat_minor": 5
}
