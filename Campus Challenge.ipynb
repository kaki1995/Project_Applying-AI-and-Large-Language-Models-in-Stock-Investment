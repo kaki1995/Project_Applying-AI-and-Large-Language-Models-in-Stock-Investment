{
 "cells": [
  {
   "cell_type": "code",
   "execution_count": 1,
   "metadata": {
    "collapsed": true,
    "ExecuteTime": {
     "start_time": "2024-12-13T17:48:51.346758Z",
     "end_time": "2024-12-13T17:51:47.961798Z"
    }
   },
   "outputs": [
    {
     "name": "stdout",
     "output_type": "stream",
     "text": [
      "Collecting yfinance\n",
      "  Downloading yfinance-0.2.50-py2.py3-none-any.whl (102 kB)\n",
      "     ------------------------------------ 102.2/102.2 kB 978.8 kB/s eta 0:00:00\n",
      "Collecting html5lib>=1.1\n",
      "  Using cached html5lib-1.1-py2.py3-none-any.whl (112 kB)\n",
      "Collecting multitasking>=0.0.7\n",
      "  Using cached multitasking-0.0.11-py3-none-any.whl (8.5 kB)\n",
      "Collecting pandas>=1.3.0\n",
      "  Using cached pandas-2.2.3-cp39-cp39-win_amd64.whl (11.6 MB)\n",
      "Collecting pytz>=2022.5\n",
      "  Using cached pytz-2024.2-py2.py3-none-any.whl (508 kB)\n",
      "Collecting peewee>=3.16.2\n",
      "  Downloading peewee-3.17.8.tar.gz (948 kB)\n",
      "     ------------------------------------- 948.2/948.2 kB 12.0 MB/s eta 0:00:00\n",
      "  Installing build dependencies: started\n",
      "  Installing build dependencies: finished with status 'done'\n",
      "  Getting requirements to build wheel: started\n",
      "  Getting requirements to build wheel: finished with status 'done'\n",
      "  Preparing metadata (pyproject.toml): started\n",
      "  Preparing metadata (pyproject.toml): finished with status 'done'\n",
      "Collecting numpy>=1.16.5\n",
      "  Using cached numpy-2.0.2-cp39-cp39-win_amd64.whl (15.9 MB)\n",
      "Requirement already satisfied: requests>=2.31 in d:\\4_campus challenge successful investing with ai and large language models\\python_campus challenge\\venv\\lib\\site-packages (from yfinance) (2.32.3)\n",
      "Collecting frozendict>=2.3.4\n",
      "  Downloading frozendict-2.4.6-cp39-cp39-win_amd64.whl (37 kB)\n",
      "Requirement already satisfied: beautifulsoup4>=4.11.1 in d:\\4_campus challenge successful investing with ai and large language models\\python_campus challenge\\venv\\lib\\site-packages (from yfinance) (4.12.3)\n",
      "Collecting lxml>=4.9.1\n",
      "  Downloading lxml-5.3.0-cp39-cp39-win_amd64.whl (3.8 MB)\n",
      "     ---------------------------------------- 3.8/3.8 MB 14.3 MB/s eta 0:00:00\n",
      "Requirement already satisfied: platformdirs>=2.0.0 in d:\\4_campus challenge successful investing with ai and large language models\\python_campus challenge\\venv\\lib\\site-packages (from yfinance) (4.3.6)\n",
      "Requirement already satisfied: soupsieve>1.2 in d:\\4_campus challenge successful investing with ai and large language models\\python_campus challenge\\venv\\lib\\site-packages (from beautifulsoup4>=4.11.1->yfinance) (2.6)\n",
      "Requirement already satisfied: webencodings in d:\\4_campus challenge successful investing with ai and large language models\\python_campus challenge\\venv\\lib\\site-packages (from html5lib>=1.1->yfinance) (0.5.1)\n",
      "Requirement already satisfied: six>=1.9 in d:\\4_campus challenge successful investing with ai and large language models\\python_campus challenge\\venv\\lib\\site-packages (from html5lib>=1.1->yfinance) (1.17.0)\n",
      "Collecting tzdata>=2022.7\n",
      "  Using cached tzdata-2024.2-py2.py3-none-any.whl (346 kB)\n",
      "Requirement already satisfied: python-dateutil>=2.8.2 in d:\\4_campus challenge successful investing with ai and large language models\\python_campus challenge\\venv\\lib\\site-packages (from pandas>=1.3.0->yfinance) (2.9.0.post0)\n",
      "Requirement already satisfied: urllib3<3,>=1.21.1 in d:\\4_campus challenge successful investing with ai and large language models\\python_campus challenge\\venv\\lib\\site-packages (from requests>=2.31->yfinance) (2.2.3)\n",
      "Requirement already satisfied: certifi>=2017.4.17 in d:\\4_campus challenge successful investing with ai and large language models\\python_campus challenge\\venv\\lib\\site-packages (from requests>=2.31->yfinance) (2024.8.30)\n",
      "Requirement already satisfied: idna<4,>=2.5 in d:\\4_campus challenge successful investing with ai and large language models\\python_campus challenge\\venv\\lib\\site-packages (from requests>=2.31->yfinance) (3.10)\n",
      "Requirement already satisfied: charset-normalizer<4,>=2 in d:\\4_campus challenge successful investing with ai and large language models\\python_campus challenge\\venv\\lib\\site-packages (from requests>=2.31->yfinance) (3.4.0)\n",
      "Building wheels for collected packages: peewee\n",
      "  Building wheel for peewee (pyproject.toml): started\n",
      "  Building wheel for peewee (pyproject.toml): finished with status 'done'\n",
      "  Created wheel for peewee: filename=peewee-3.17.8-py3-none-any.whl size=139012 sha256=5d05a4b8fcce98e1e32f981e9efe94a017e1d45c330cc4de17c1bc8f0f4ec661\n",
      "  Stored in directory: c:\\users\\admin\\appdata\\local\\pip\\cache\\wheels\\04\\8c\\73\\25a8039864fc2cdd03d953079dcdbf7eb6d567c28786c3a324\n",
      "Successfully built peewee\n",
      "Installing collected packages: pytz, peewee, multitasking, tzdata, numpy, lxml, html5lib, frozendict, pandas, yfinance\n",
      "Successfully installed frozendict-2.4.6 html5lib-1.1 lxml-5.3.0 multitasking-0.0.11 numpy-2.0.2 pandas-2.2.3 peewee-3.17.8 pytz-2024.2 tzdata-2024.2 yfinance-0.2.50\n",
      "Note: you may need to restart the kernel to use updated packages.\n"
     ]
    },
    {
     "name": "stderr",
     "output_type": "stream",
     "text": [
      "\n",
      "[notice] A new release of pip available: 22.3.1 -> 24.3.1\n",
      "[notice] To update, run: python.exe -m pip install --upgrade pip\n"
     ]
    }
   ],
   "source": [
    "# Install the yfinance library:\n",
    "pip install yfinance"
   ]
  },
  {
   "cell_type": "code",
   "execution_count": 5,
   "outputs": [
    {
     "name": "stderr",
     "output_type": "stream",
     "text": [
      "[*********************100%***********************]  2 of 2 completed\n"
     ]
    },
    {
     "data": {
      "text/plain": "            SP500_Return (%)  VIX_Close\nDate                                   \n2014-12-08         -3.519380  21.080000\n2014-12-15          3.412022  16.490000\n2014-12-22          0.875093  14.500000\n2014-12-29         -1.463544  17.790001\n2015-01-05         -0.650563  17.549999\n...                      ...        ...\n2024-10-28         -1.365680  21.879999\n2024-11-04          4.656128  14.940000\n2024-11-11         -2.083547  16.139999\n2024-11-18          1.681589  15.240000\n2024-11-25          1.056064  13.510000\n\n[521 rows x 2 columns]",
      "text/html": "<div>\n<style scoped>\n    .dataframe tbody tr th:only-of-type {\n        vertical-align: middle;\n    }\n\n    .dataframe tbody tr th {\n        vertical-align: top;\n    }\n\n    .dataframe thead th {\n        text-align: right;\n    }\n</style>\n<table border=\"1\" class=\"dataframe\">\n  <thead>\n    <tr style=\"text-align: right;\">\n      <th></th>\n      <th>SP500_Return (%)</th>\n      <th>VIX_Close</th>\n    </tr>\n    <tr>\n      <th>Date</th>\n      <th></th>\n      <th></th>\n    </tr>\n  </thead>\n  <tbody>\n    <tr>\n      <th>2014-12-08</th>\n      <td>-3.519380</td>\n      <td>21.080000</td>\n    </tr>\n    <tr>\n      <th>2014-12-15</th>\n      <td>3.412022</td>\n      <td>16.490000</td>\n    </tr>\n    <tr>\n      <th>2014-12-22</th>\n      <td>0.875093</td>\n      <td>14.500000</td>\n    </tr>\n    <tr>\n      <th>2014-12-29</th>\n      <td>-1.463544</td>\n      <td>17.790001</td>\n    </tr>\n    <tr>\n      <th>2015-01-05</th>\n      <td>-0.650563</td>\n      <td>17.549999</td>\n    </tr>\n    <tr>\n      <th>...</th>\n      <td>...</td>\n      <td>...</td>\n    </tr>\n    <tr>\n      <th>2024-10-28</th>\n      <td>-1.365680</td>\n      <td>21.879999</td>\n    </tr>\n    <tr>\n      <th>2024-11-04</th>\n      <td>4.656128</td>\n      <td>14.940000</td>\n    </tr>\n    <tr>\n      <th>2024-11-11</th>\n      <td>-2.083547</td>\n      <td>16.139999</td>\n    </tr>\n    <tr>\n      <th>2024-11-18</th>\n      <td>1.681589</td>\n      <td>15.240000</td>\n    </tr>\n    <tr>\n      <th>2024-11-25</th>\n      <td>1.056064</td>\n      <td>13.510000</td>\n    </tr>\n  </tbody>\n</table>\n<p>521 rows × 2 columns</p>\n</div>"
     },
     "execution_count": 5,
     "metadata": {},
     "output_type": "execute_result"
    }
   ],
   "source": [
    "import yfinance as yf\n",
    "import pandas as pd\n",
    "\n",
    "# Define the tickers for S&P 500 (^GSPC) and VIX (^VIX)\n",
    "tickers = [\"^GSPC\", \"^VIX\"]\n",
    "\n",
    "# Download weekly data from Yahoo Finance\n",
    "data = yf.download(tickers, start=\"2014-12-01\", end=\"2024-11-30\", interval=\"1wk\", group_by=\"ticker\")\n",
    "\n",
    "# Extract closing prices\n",
    "sp500_close = data[\"^GSPC\"][\"Close\"]\n",
    "vix_close = data[\"^VIX\"][\"Close\"]\n",
    "\n",
    "# Calculate weekly returns for S&P 500 (percentage change)\n",
    "sp500_return = sp500_close.pct_change() * 100\n",
    "\n",
    "# Combine data into a single DataFrame\n",
    "sp500_vix = pd.DataFrame({\n",
    "    \"Date\": sp500_close.index,\n",
    "    \"SP500_Return (%)\": sp500_return,\n",
    "    \"VIX_Close\": vix_close\n",
    "}).set_index(\"Date\")\n",
    "\n",
    "# Drop rows with NaN values (e.g., first row for returns calculation)\n",
    "sp500_vix.dropna(inplace=True)\n",
    "\n",
    "# Save to a CSV file\n",
    "#combined_data.to_csv(\"weekly_sp500_vix.csv\")\n",
    "\n",
    "sp500_vix"
   ],
   "metadata": {
    "collapsed": false,
    "ExecuteTime": {
     "start_time": "2024-12-13T18:03:58.229857Z",
     "end_time": "2024-12-13T18:03:58.307929Z"
    }
   }
  },
  {
   "cell_type": "code",
   "execution_count": null,
   "outputs": [],
   "source": [],
   "metadata": {
    "collapsed": false
   }
  }
 ],
 "metadata": {
  "kernelspec": {
   "display_name": "Python 3",
   "language": "python",
   "name": "python3"
  },
  "language_info": {
   "codemirror_mode": {
    "name": "ipython",
    "version": 2
   },
   "file_extension": ".py",
   "mimetype": "text/x-python",
   "name": "python",
   "nbconvert_exporter": "python",
   "pygments_lexer": "ipython2",
   "version": "2.7.6"
  }
 },
 "nbformat": 4,
 "nbformat_minor": 0
}
